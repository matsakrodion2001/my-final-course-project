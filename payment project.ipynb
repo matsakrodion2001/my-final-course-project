{
 "cells": [
  {
   "cell_type": "code",
   "execution_count": 284,
   "metadata": {},
   "outputs": [],
   "source": [
    "import pandas as pd\n",
    "import requests \n",
    "from urllib.parse import urlencode\n",
    "import numpy as np\n",
    "from scipy.stats import shapiro\n",
    "import scipy.stats as stats\n",
    "import numpy as np\n",
    "import seaborn as sns\n",
    "from scipy import stats\n",
    "from scipy.stats import ttest_ind\n",
    "from scipy.stats import chi2_contingency\n",
    "# импортируем необходимые библиотеки"
   ]
  },
  {
   "cell_type": "code",
   "execution_count": 285,
   "metadata": {},
   "outputs": [],
   "source": [
    "#groups = pd.read_csv('/mnt/HC_Volume_18315164/home-jupyter/jupyter-r-matsak/FINAL PROJECT pravki/Проект_2_groups.csv')\n",
    "#groups_add = pd.read_csv('/mnt/HC_Volume_18315164/home-jupyter/jupyter-r-matsak/FINAL PROJECT pravki/Проект_2_group_add.csv')\n",
    "#checks = pd.read_csv('/mnt/HC_Volume_18315164/home-jupyter/jupyter-r-matsak/FINAL PROJECT pravki/Проект_2_checks.csv')\n",
    "#active_studs = pd.read_csv('/mnt/HC_Volume_18315164/home-jupyter/jupyter-r-matsak/FINAL PROJECT pravki/Проект_2_active_studs.csv')\n",
    "\n",
    "# подгружаем данные"
   ]
  },
  {
   "cell_type": "code",
   "execution_count": 286,
   "metadata": {},
   "outputs": [],
   "source": [
    "#Я попытался подгрузить данные через Яндекс диск, однако у меня не получилось написать универсальную функцию для всех файлов,\n",
    "#и один из файлов не подгружался, поэтому я сделал подгрузку через гугл диск, функция на Яндекс диск ниже"
   ]
  },
  {
   "cell_type": "code",
   "execution_count": 287,
   "metadata": {},
   "outputs": [],
   "source": [
    "#def download_group_add():\n",
    "    \n",
    "    #base_url = 'https://cloud-api.yandex.net/v1/disk/public/resources/download?' \n",
    "    #public_key = 'https://disk.yandex.ru/d/5Kxrz02m3IBUwQ' \n",
    "\n",
    "    \n",
    "    #final_url = base_url + urlencode(dict(public_key=public_key)) \n",
    "    #response = requests.get(final_url) \n",
    "    #download_url = response.json()['href'] \n",
    "\n",
    "   \n",
    "    #download_response = requests.get(download_url) \n",
    "    #group_add = pd.read_csv(download_url, sep='\\t') \n",
    "    #return group_add"
   ]
  },
  {
   "cell_type": "code",
   "execution_count": 288,
   "metadata": {},
   "outputs": [],
   "source": [
    "#def download_active_studs():\n",
    "    \n",
    "    #base_url = 'https://cloud-api.yandex.net/v1/disk/public/resources/download?' \n",
    "    #public_key = 'https://disk.yandex.ru/d/Tbs44Bm6H_FwFQ' \n",
    "\n",
    "     \n",
    "    #final_url = base_url + urlencode(dict(public_key=public_key)) \n",
    "    #response = requests.get(final_url) \n",
    "    #download_url = response.json()['href'] \n",
    "\n",
    "     \n",
    "    #download_response = requests.get(download_url) \n",
    "    #active_studs = pd.read_csv(download_url, sep='\\t') \n",
    "    #return active_studs"
   ]
  },
  {
   "cell_type": "code",
   "execution_count": 289,
   "metadata": {},
   "outputs": [],
   "source": [
    "#def download_groups():\n",
    "     \n",
    "    #base_url = 'https://cloud-api.yandex.net/v1/disk/public/resources/download?' \n",
    "    #public_key = 'https://disk.yandex.ru/d/w42eB8O14PEsPQ' \n",
    "\n",
    "    \n",
    "    #final_url = base_url + urlencode(dict(public_key=public_key)) \n",
    "    #response = requests.get(final_url) \n",
    "    #download_url = response.json()['href'] \n",
    "\n",
    "\n",
    "    #download_response = requests.get(download_url) \n",
    "    #groups = pd.read_csv(download_url, sep='\\t') \n",
    "    #return groups"
   ]
  },
  {
   "cell_type": "code",
   "execution_count": 290,
   "metadata": {},
   "outputs": [],
   "source": [
    "#def download_checks():\n",
    "     \n",
    "    #base_url = 'https://cloud-api.yandex.net/v1/disk/public/resources/download?' \n",
    "    #public_key = 'https://disk.yandex.ru/d/pP4q70p9i8OwcA' \n",
    "\n",
    "     \n",
    "    #final_url = base_url + urlencode(dict(public_key=public_key)) \n",
    "    #response = requests.get(final_url) \n",
    "    #download_url = response.json()['href'] \n",
    "\n",
    "     \n",
    "    #download_response = requests.get(download_url) \n",
    "    #checks = pd.read_csv(download_url, sep='\\t') \n",
    "    #return checks"
   ]
  },
  {
   "cell_type": "code",
   "execution_count": 291,
   "metadata": {},
   "outputs": [],
   "source": [
    "def download(url):\n",
    "    url='https://drive.google.com/uc?id=' + url.split('/')[-2]\n",
    "    df = pd.read_csv(url)\n",
    "    return df\n",
    "# создаем функцию для загрузки данных с гугл диска"
   ]
  },
  {
   "cell_type": "code",
   "execution_count": 292,
   "metadata": {},
   "outputs": [],
   "source": [
    "url='https://drive.google.com/file/d/1aXordPW__uUCdIiBCgARfB5r_ClD64MJ/view?usp=sharing'\n",
    "groups = download(url)\n",
    "\n",
    "url='https://drive.google.com/file/d/15v84eZy8ql3HoN5UYRlbWSJudW5IFuh-/view?usp=sharing'\n",
    "groups_add = download(url)\n",
    "\n",
    "url='https://drive.google.com/file/d/1MY3WR314cbW6fKQ2O6b8hVhzG2dnG7nn/view?usp=sharing'\n",
    "active_studs = download(url)\n",
    "\n",
    "url='https://drive.google.com/file/d/17uUwfTQMnk62wEHdZ3WrVvUcadD1NMsy/view?usp=sharing'\n",
    "checks = download(url)\n",
    "\n",
    "#подгрузка данных"
   ]
  },
  {
   "cell_type": "code",
   "execution_count": 293,
   "metadata": {},
   "outputs": [],
   "source": [
    "def download(): \n",
    "    # используем api \n",
    "    base_url = 'https://cloud-api.yandex.net/v1/disk/public/resources/download?' \n",
    "    public_key = 'https://disk.yandex.ru/d/pH1q-VqcxXjsVA' \n",
    "\n",
    "    # получаем url \n",
    "    final_url = base_url + urlencode(dict(public_key=public_key)) \n",
    "    response = requests.get(final_url) \n",
    "    download_url = response.json()['href'] \n",
    "\n",
    "    # загружаем файл в df \n",
    "    download_response = requests.get(download_url) \n",
    "    df = pd.read_csv(download_url, sep='\\t')\n",
    "    return df"
   ]
  },
  {
   "cell_type": "code",
   "execution_count": 294,
   "metadata": {},
   "outputs": [],
   "source": [
    "def check_duplicates(groups, groups_add, checks, active_studs):\n",
    "    \n",
    "    duplicates_groups = groups.duplicated()\n",
    "    if duplicates_groups.any():\n",
    "        print(\"В датафрейме groups есть дубликаты\")\n",
    "        print(groups[duplicates_groups])\n",
    "    else:\n",
    "        print(\"В датафрейме groups нет дубликатов\")\n",
    "\n",
    "    duplicates_groups_add = groups_add.duplicated()\n",
    "    if duplicates_groups_add.any():\n",
    "        print(\"В датафрейме groups_add есть дубликаты\")\n",
    "        print(groups_add[duplicates_groups_add])\n",
    "    else:\n",
    "        print(\"В датафрейме groups_add нет дубликатов\")\n",
    "\n",
    "    duplicates_checks = checks.duplicated()\n",
    "    if duplicates_checks.any():\n",
    "        print(\"В датафрейме checks есть дубликаты\")\n",
    "        print(checks[duplicates_checks])\n",
    "    else:\n",
    "        print(\"В датафрейме checks нет дубликатов\")\n",
    "        \n",
    "    duplicates_active_studs = active_studs.duplicated()\n",
    "    if duplicates_active_studs.any():\n",
    "        print(\"В датафрейме active_studs есть дубликаты\")\n",
    "        print(active_studs[duplicates_active_studs])\n",
    "    else:\n",
    "        print(\"В датафрейме active_studs нет дубликатов\")\n",
    "\n",
    "# проверка на дубликаты"
   ]
  },
  {
   "cell_type": "code",
   "execution_count": 295,
   "metadata": {},
   "outputs": [
    {
     "name": "stdout",
     "output_type": "stream",
     "text": [
      "В датафрейме groups нет дубликатов\n",
      "В датафрейме groups_add нет дубликатов\n",
      "В датафрейме checks нет дубликатов\n",
      "В датафрейме active_studs нет дубликатов\n"
     ]
    }
   ],
   "source": [
    "check_duplicates(groups, groups_add, checks, active_studs)"
   ]
  },
  {
   "cell_type": "code",
   "execution_count": 296,
   "metadata": {},
   "outputs": [],
   "source": [
    "def check_nan(groups, groups_add, checks, active_studs):\n",
    "    \n",
    "    nan_groups = groups.isna().sum()\n",
    "    if nan_groups.any():\n",
    "        print(\"В датафрейме groups есть nan\")\n",
    "    else:\n",
    "        print(\"В датафрейме groups нет nan\")\n",
    "\n",
    "    nan_groups_add = groups_add.isna().sum()\n",
    "    if nan_groups_add.any():\n",
    "        print(\"Во втором датафрейме есть nan\")\n",
    "    else:\n",
    "        print(\"В датафрейме groups_add нет nan\")\n",
    "\n",
    "    nan_checks = checks.isna().sum()\n",
    "    if nan_checks.any():\n",
    "        print(\"В датафрейме checks есть nan\")\n",
    "    else:\n",
    "        print(\"В датафрейме checks нет nan\")\n",
    "        \n",
    "    nan_active_studs = active_studs.isna().sum()\n",
    "    if nan_active_studs.any():\n",
    "        print(\"В датафрейме active_studs есть nan\")\n",
    "    else:\n",
    "        print(\"В датафрейме active_studs нет nan\")\n",
    "        \n",
    "# проверка на Nan"
   ]
  },
  {
   "cell_type": "code",
   "execution_count": 297,
   "metadata": {},
   "outputs": [
    {
     "name": "stdout",
     "output_type": "stream",
     "text": [
      "В датафрейме groups нет nan\n",
      "В датафрейме groups_add нет nan\n",
      "В датафрейме checks нет nan\n",
      "В датафрейме active_studs нет nan\n"
     ]
    }
   ],
   "source": [
    "check_nan(groups, groups_add, checks, active_studs)"
   ]
  },
  {
   "cell_type": "code",
   "execution_count": 298,
   "metadata": {},
   "outputs": [],
   "source": [
    "# приводим данные в порядок и объединяем необходимые столбцы"
   ]
  },
  {
   "cell_type": "code",
   "execution_count": 299,
   "metadata": {},
   "outputs": [],
   "source": [
    "active_studs.rename(columns = {'student_id':'id'}, inplace = True )"
   ]
  },
  {
   "cell_type": "code",
   "execution_count": 300,
   "metadata": {},
   "outputs": [],
   "source": [
    "checks[['id', 'pay']] = checks['student_id;\"rev\"'].str.split(';', expand=True)\n",
    "checks = checks.drop(columns=['student_id;\"rev\"'])"
   ]
  },
  {
   "cell_type": "code",
   "execution_count": 301,
   "metadata": {},
   "outputs": [],
   "source": [
    "checks = checks.astype({'id': 'int64'})"
   ]
  },
  {
   "cell_type": "code",
   "execution_count": 302,
   "metadata": {},
   "outputs": [],
   "source": [
    "pay_active = active_studs.merge(checks, on = 'id', how = 'inner')\n",
    "# создаем датафрейм с активными, платящими пользователями"
   ]
  },
  {
   "cell_type": "code",
   "execution_count": 303,
   "metadata": {},
   "outputs": [
    {
     "data": {
      "text/plain": [
       "id     392\n",
       "pay    392\n",
       "dtype: int64"
      ]
     },
     "execution_count": 303,
     "metadata": {},
     "output_type": "execute_result"
    }
   ],
   "source": [
    "pay_active.count()"
   ]
  },
  {
   "cell_type": "code",
   "execution_count": 304,
   "metadata": {},
   "outputs": [
    {
     "data": {
      "text/plain": [
       "id     541\n",
       "pay    541\n",
       "dtype: int64"
      ]
     },
     "execution_count": 304,
     "metadata": {},
     "output_type": "execute_result"
    }
   ],
   "source": [
    "checks.count()"
   ]
  },
  {
   "cell_type": "code",
   "execution_count": 305,
   "metadata": {},
   "outputs": [
    {
     "data": {
      "text/plain": [
       "149"
      ]
     },
     "execution_count": 305,
     "metadata": {},
     "output_type": "execute_result"
    }
   ],
   "source": [
    "541-392"
   ]
  },
  {
   "cell_type": "code",
   "execution_count": 306,
   "metadata": {},
   "outputs": [],
   "source": [
    "#в результате небольшой проверки заметно, что есть категория пользователей (их всего 149), которые совершили оплату,\n",
    "#однако не были активными на сайте. Несмотря на покупку, я не буду учитывать эти данные, так как они не соответсвуют \n",
    "#критериям анализа"
   ]
  },
  {
   "cell_type": "code",
   "execution_count": 307,
   "metadata": {},
   "outputs": [],
   "source": [
    "groups[['id', 'grp']] = groups['id;grp'].str.split(';', expand=True)\n",
    "groups = groups.drop(columns=['id;grp'])"
   ]
  },
  {
   "cell_type": "code",
   "execution_count": 308,
   "metadata": {},
   "outputs": [],
   "source": [
    "groups = groups.astype({'id': 'int64'})"
   ]
  },
  {
   "cell_type": "code",
   "execution_count": 309,
   "metadata": {},
   "outputs": [],
   "source": [
    "groups = groups.append(groups_add, ignore_index=True)\n",
    "\n",
    "# добавляем инфу с допфайла"
   ]
  },
  {
   "cell_type": "code",
   "execution_count": 310,
   "metadata": {},
   "outputs": [],
   "source": [
    "payment_groups = groups.merge(pay_active, on='id')\n",
    "payment_groups = payment_groups.astype({'pay': 'float'})"
   ]
  },
  {
   "cell_type": "code",
   "execution_count": 311,
   "metadata": {},
   "outputs": [],
   "source": [
    "group_B = payment_groups.query('grp == \"B\"')\n",
    "\n",
    "#Оплатившие из целевой группы"
   ]
  },
  {
   "cell_type": "code",
   "execution_count": 312,
   "metadata": {},
   "outputs": [],
   "source": [
    "group_A = payment_groups.query('grp == \"A\"')\n",
    "\n",
    "#Оплатившие из контрольной группы"
   ]
  },
  {
   "cell_type": "code",
   "execution_count": 313,
   "metadata": {},
   "outputs": [],
   "source": [
    "active_group = active_studs.merge(groups, on='id', how='inner')"
   ]
  },
  {
   "cell_type": "code",
   "execution_count": 314,
   "metadata": {},
   "outputs": [],
   "source": [
    "active_group_A = active_group.query('grp == \"A\"')\n",
    "active_group_B = active_group.query('grp == \"B\"')\n",
    "# пользователи из групп А и В в дни проведения экспериментов"
   ]
  },
  {
   "cell_type": "code",
   "execution_count": 315,
   "metadata": {},
   "outputs": [],
   "source": [
    "#active_payment = active_group.merge(checks, on='id')\n",
    "# заплатили в дни проведения эксперимента"
   ]
  },
  {
   "cell_type": "code",
   "execution_count": 316,
   "metadata": {},
   "outputs": [],
   "source": [
    "#active_payment = active_payment.astype({'pay': 'float'})"
   ]
  },
  {
   "cell_type": "code",
   "execution_count": 317,
   "metadata": {},
   "outputs": [],
   "source": [
    "payment_A = payment_groups.query('grp == \"A\"')\n",
    "payment_B = payment_groups.query('grp == \"B\"')\n",
    "# оплатившие в дни эксперимента из групп А и В"
   ]
  },
  {
   "cell_type": "code",
   "execution_count": 318,
   "metadata": {},
   "outputs": [],
   "source": [
    "payment_A = payment_A.astype({'pay': 'float'})\n",
    "payment_B = payment_B.astype({'pay': 'float'})"
   ]
  },
  {
   "cell_type": "code",
   "execution_count": 319,
   "metadata": {},
   "outputs": [],
   "source": [
    "CR_A = (payment_A.id.count()) / (active_group_A.id.count()) * 100\n",
    "CR_B = (payment_B.id.count()) / (active_group_B.id.count()) * 100\n",
    "# находим конверсию по группам"
   ]
  },
  {
   "cell_type": "code",
   "execution_count": 320,
   "metadata": {},
   "outputs": [
    {
     "data": {
      "text/plain": [
       "5.071521456436931"
      ]
     },
     "execution_count": 320,
     "metadata": {},
     "output_type": "execute_result"
    }
   ],
   "source": [
    "CR_A"
   ]
  },
  {
   "cell_type": "code",
   "execution_count": 321,
   "metadata": {},
   "outputs": [
    {
     "data": {
      "text/plain": [
       "4.615610759958842"
      ]
     },
     "execution_count": 321,
     "metadata": {},
     "output_type": "execute_result"
    }
   ],
   "source": [
    "CR_B"
   ]
  },
  {
   "cell_type": "code",
   "execution_count": 322,
   "metadata": {},
   "outputs": [],
   "source": [
    "# для определения статзначимости различий между данными групп проведем статтесты"
   ]
  },
  {
   "cell_type": "code",
   "execution_count": 323,
   "metadata": {},
   "outputs": [],
   "source": [
    "# Для проверки конверсии предлагаю воспользоватья тестом Хи квадрат, так как данные явдяются качественными,\n",
    "#имеется 2 группы, данных в каждой ячейке более 5"
   ]
  },
  {
   "cell_type": "code",
   "execution_count": 324,
   "metadata": {},
   "outputs": [],
   "source": [
    "# Н0 - конверсия в двух группах не отличается \n",
    "# Н1 - конверсия в даух группах отличается"
   ]
  },
  {
   "cell_type": "code",
   "execution_count": 325,
   "metadata": {},
   "outputs": [],
   "source": [
    "cr_payment_A = payment_A.merge(active_group_A, on = 'id', how = 'outer')\n",
    "cr_payment_A['grp_x'] = cr_payment_A['grp_x'].fillna(0)\n",
    "cr_payment_A.drop(['pay', 'grp_y'], axis= 1 , inplace= True)\n",
    "cr_payment_A = cr_payment_A.rename(columns={\"grp_x\": \"pay\"})\n",
    "cr_payment_A['pay'] = cr_payment_A['pay'].replace('A', 1)\n",
    "cr_payment_A['id'] = cr_payment_A['id'].replace(cr_payment_A['id'].unique(), 'А')\n",
    "\n",
    "# предобработка данных в контрольной группе"
   ]
  },
  {
   "cell_type": "code",
   "execution_count": 326,
   "metadata": {},
   "outputs": [],
   "source": [
    "cr_payment_B = active_group_B.merge(payment_B, on = 'id', how = 'outer')\n",
    "cr_payment_B.drop(['pay', 'grp_x'], axis= 1 , inplace= True)\n",
    "cr_payment_B['grp_y'] = cr_payment_B['grp_y'].fillna(0)\n",
    "cr_payment_B = cr_payment_B.rename(columns={\"grp_y\": \"pay\"})\n",
    "cr_payment_B['pay'] = cr_payment_B['pay'].replace('B', 1)\n",
    "cr_payment_B['id'] = cr_payment_B['id'].replace(cr_payment_B['id'].unique(), 'B')\n",
    "\n",
    "# предобработка данных в целевой группе"
   ]
  },
  {
   "cell_type": "code",
   "execution_count": 327,
   "metadata": {},
   "outputs": [],
   "source": [
    "cr_payment = cr_payment_A.append(cr_payment_B, ignore_index=True)"
   ]
  },
  {
   "cell_type": "code",
   "execution_count": 328,
   "metadata": {},
   "outputs": [],
   "source": [
    "cross_tab = pd.crosstab(cr_payment['id'], cr_payment['pay'])\n",
    "\n",
    "#создание кросс-таблицы"
   ]
  },
  {
   "cell_type": "code",
   "execution_count": 329,
   "metadata": {},
   "outputs": [],
   "source": [
    "chi2, p_value, dof, expected = chi2_contingency(cross_tab)\n",
    "\n",
    "#применяем тест"
   ]
  },
  {
   "cell_type": "code",
   "execution_count": 330,
   "metadata": {},
   "outputs": [
    {
     "data": {
      "text/plain": [
       "0.48625240457231045"
      ]
     },
     "execution_count": 330,
     "metadata": {},
     "output_type": "execute_result"
    }
   ],
   "source": [
    "p_value"
   ]
  },
  {
   "cell_type": "code",
   "execution_count": 331,
   "metadata": {},
   "outputs": [],
   "source": [
    "# так как p_value значительно больше 0,05, не отвергаем нулевую гипотезу"
   ]
  },
  {
   "cell_type": "code",
   "execution_count": 332,
   "metadata": {},
   "outputs": [],
   "source": [
    "payment_B.drop(['id', 'grp'], axis= 1 , inplace= True)\n",
    "payment_A.drop(['id', 'grp'], axis= 1 , inplace= True)"
   ]
  },
  {
   "cell_type": "code",
   "execution_count": 333,
   "metadata": {},
   "outputs": [
    {
     "name": "stdout",
     "output_type": "stream",
     "text": [
      "Группа A: p-значение = 1.4986822893803264e-10\n",
      "Группа B: p-значение = 1.5437024585965894e-16\n"
     ]
    }
   ],
   "source": [
    "statistic1, p_value1 = shapiro(payment_A)\n",
    "statistic2, p_value2 = shapiro(payment_B)\n",
    "print(\"Группа A: p-значение =\", p_value1)\n",
    "print(\"Группа B: p-значение =\", p_value2)\n",
    "\n",
    "# с помощью теста Шапиро проверяем данные на нормальность"
   ]
  },
  {
   "cell_type": "code",
   "execution_count": 334,
   "metadata": {},
   "outputs": [],
   "source": [
    "#Чтобы проверить статистическую значимость в различиях среднего чека предлагаю использовать t-тест,\n",
    "#так как данных больше  30 соответсвенно допускаем ненормальное распределение данных, данные количественные и\n",
    "#сама метрика подразумевает расчет средней выручки с заказа, соотвественно необходимо сравнить средние значения\n",
    "#контрольной и целевой групп"
   ]
  },
  {
   "cell_type": "code",
   "execution_count": 335,
   "metadata": {},
   "outputs": [],
   "source": [
    "#H0 - средний чек в контрольной группе такой же, как в целевой \n",
    "#Н1 - средний чек в целевой группе выше, чем в контрольной"
   ]
  },
  {
   "cell_type": "code",
   "execution_count": 336,
   "metadata": {},
   "outputs": [
    {
     "data": {
      "text/html": [
       "<div>\n",
       "<style scoped>\n",
       "    .dataframe tbody tr th:only-of-type {\n",
       "        vertical-align: middle;\n",
       "    }\n",
       "\n",
       "    .dataframe tbody tr th {\n",
       "        vertical-align: top;\n",
       "    }\n",
       "\n",
       "    .dataframe thead th {\n",
       "        text-align: right;\n",
       "    }\n",
       "</style>\n",
       "<table border=\"1\" class=\"dataframe\">\n",
       "  <thead>\n",
       "    <tr style=\"text-align: right;\">\n",
       "      <th></th>\n",
       "      <th>pay</th>\n",
       "    </tr>\n",
       "    <tr>\n",
       "      <th>grp</th>\n",
       "      <th></th>\n",
       "    </tr>\n",
       "  </thead>\n",
       "  <tbody>\n",
       "    <tr>\n",
       "      <th>A</th>\n",
       "      <td>933.589744</td>\n",
       "    </tr>\n",
       "    <tr>\n",
       "      <th>B</th>\n",
       "      <td>1257.878992</td>\n",
       "    </tr>\n",
       "  </tbody>\n",
       "</table>\n",
       "</div>"
      ],
      "text/plain": [
       "             pay\n",
       "grp             \n",
       "A     933.589744\n",
       "B    1257.878992"
      ]
     },
     "execution_count": 336,
     "metadata": {},
     "output_type": "execute_result"
    }
   ],
   "source": [
    "active_payment.groupby(['grp']).agg({'pay' : 'mean'})"
   ]
  },
  {
   "cell_type": "code",
   "execution_count": 337,
   "metadata": {},
   "outputs": [
    {
     "data": {
      "text/plain": [
       "Ttest_indResult(statistic=array([-3.13377951]), pvalue=array([0.0018562]))"
      ]
     },
     "execution_count": 337,
     "metadata": {},
     "output_type": "execute_result"
    }
   ],
   "source": [
    "stats.ttest_ind(a=payment_A, b=payment_B, equal_var=True)"
   ]
  },
  {
   "cell_type": "code",
   "execution_count": 338,
   "metadata": {},
   "outputs": [],
   "source": [
    "AOV_A = (payment_A.pay.sum()) / (payment_A.pay.count())\n",
    "AOV_B = (payment_B.pay.sum()) / (payment_B.pay.count())"
   ]
  },
  {
   "cell_type": "code",
   "execution_count": 339,
   "metadata": {},
   "outputs": [
    {
     "data": {
      "text/plain": [
       "933.5897435897435"
      ]
     },
     "execution_count": 339,
     "metadata": {},
     "output_type": "execute_result"
    }
   ],
   "source": [
    "AOV_A"
   ]
  },
  {
   "cell_type": "code",
   "execution_count": 340,
   "metadata": {},
   "outputs": [
    {
     "data": {
      "text/plain": [
       "1257.8789920382164"
      ]
     },
     "execution_count": 340,
     "metadata": {},
     "output_type": "execute_result"
    }
   ],
   "source": [
    "AOV_B"
   ]
  },
  {
   "cell_type": "code",
   "execution_count": null,
   "metadata": {},
   "outputs": [],
   "source": [
    "В ходе работы с данными, расчета таких метрик как CR и AOV, я выяснил, что показатели метрик контрольной и целевой группы\n",
    "различаются, причем конверсия в целевой группе больше, а средний наоборот наоборот меньше, что \n",
    "довольно неодонозначно. Однако, проведя два статистически теста и проверив различия метрик на статзначимость, я выяснил, что\n",
    "средний чек действительно ниже, причем конверсия наоборот не изменилась. Соответсвенно можно сделать вывод о том, что\n",
    "не стоит вводит новую систему оплаты"
   ]
  }
 ],
 "metadata": {
  "kernelspec": {
   "display_name": "Python 3",
   "language": "python",
   "name": "python3"
  },
  "language_info": {
   "codemirror_mode": {
    "name": "ipython",
    "version": 3
   },
   "file_extension": ".py",
   "mimetype": "text/x-python",
   "name": "python",
   "nbconvert_exporter": "python",
   "pygments_lexer": "ipython3",
   "version": "3.7.3"
  }
 },
 "nbformat": 4,
 "nbformat_minor": 4
}
